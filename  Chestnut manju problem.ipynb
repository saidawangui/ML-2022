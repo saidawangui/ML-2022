{
 "cells": [
  {
   "cell_type": "markdown",
   "id": "6398bd33",
   "metadata": {},
   "source": [
    "### [Problem] The day chestnut manju covers the solar system"
   ]
  },
  {
   "cell_type": "code",
   "execution_count": 1,
   "id": "0f456e97",
   "metadata": {},
   "outputs": [
    {
     "name": "stdout",
     "output_type": "stream",
     "text": [
      "885\n"
     ]
    }
   ],
   "source": [
    "import math\n",
    "chestnut_bun = 6 * 4 * 3 /1000000\n",
    "solar_system = math.pi * 3 * (15 * 10 **15)**3 / 4\n",
    "\n",
    "def minutes_covering(original_size, size_sprinkled):\n",
    "    count = 0\n",
    "    while original_size < size_sprinkled:\n",
    "        \n",
    "        original_size *= 2\n",
    "        count += 1\n",
    "    minute = count * 5   \n",
    "    return minute\n",
    "\n",
    "\n",
    "print(minutes_covering(chestnut_bun, solar_system))\n",
    "#minutes_covering(chestnut_bun, solar_system)"
   ]
  },
  {
   "cell_type": "code",
   "execution_count": 3,
   "id": "277adf0d",
   "metadata": {},
   "outputs": [
    {
     "name": "stdout",
     "output_type": "stream",
     "text": [
      "175 minutes\n"
     ]
    }
   ],
   "source": [
    "tokyo_dome = 1240000 \n",
    "print(\"{} minutes\" .format(minutes_covering(chestnut_bun, tokyo_dome)))"
   ]
  },
  {
   "cell_type": "code",
   "execution_count": null,
   "id": "01fcf2db",
   "metadata": {},
   "outputs": [],
   "source": []
  }
 ],
 "metadata": {
  "kernelspec": {
   "display_name": "Python 3 (ipykernel)",
   "language": "python",
   "name": "python3"
  },
  "language_info": {
   "codemirror_mode": {
    "name": "ipython",
    "version": 3
   },
   "file_extension": ".py",
   "mimetype": "text/x-python",
   "name": "python",
   "nbconvert_exporter": "python",
   "pygments_lexer": "ipython3",
   "version": "3.8.13"
  }
 },
 "nbformat": 4,
 "nbformat_minor": 5
}
