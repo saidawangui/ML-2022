{
 "cells": [
  {
   "cell_type": "code",
   "execution_count": 8,
   "id": "c21c296e",
   "metadata": {},
   "outputs": [
    {
     "name": "stdout",
     "output_type": "stream",
     "text": [
      "Thickness: 703687441.77664 meters\n"
     ]
    }
   ],
   "source": [
    "#Code to calculate the thickness when the paper is folded 43 times\n",
    "\n",
    "THICKNESS = 0.00008\n",
    "\n",
    "folded_thickness = THICKNESS * 2 ** 43\n",
    "\n",
    "print(\"Thickness: {} meters\".format(folded_thickness))"
   ]
  },
  {
   "cell_type": "markdown",
   "id": "e835f2bd",
   "metadata": {},
   "source": [
    "## Problem 1\n",
    "How many times to fold paper to exceed the height of Mt.Fuji\n",
    "t(n) = 3776 m t(0) = 0.00008 m"
   ]
  },
  {
   "cell_type": "code",
   "execution_count": 5,
   "id": "3b004a1e",
   "metadata": {},
   "outputs": [
    {
     "name": "stdout",
     "output_type": "stream",
     "text": [
      "the number of folds is 26\n"
     ]
    }
   ],
   "source": [
    "#folded paper to exceed the height of Mt.Fuji\n",
    "import math # library to use logarithm\n",
    "n = (math.log(3776) - math.log(0.00008)) / math.log(2)\n",
    "num_of_folds = math.ceil(n) \n",
    "print(\"the number of folds is \"+ str(num_of_folds)) \n",
    "    \n",
    "    "
   ]
  },
  {
   "cell_type": "markdown",
   "id": "565fb9f2",
   "metadata": {},
   "source": [
    "## [Problem 2] \n",
    "Function corresponding to arbitrary thickness.\n"
   ]
  },
  {
   "cell_type": "code",
   "execution_count": 9,
   "id": "a1431b03",
   "metadata": {
    "scrolled": true
   },
   "outputs": [
    {
     "name": "stdout",
     "output_type": "stream",
     "text": [
      "The minimum number of folds required to exceed the height is: 69\n"
     ]
    }
   ],
   "source": [
    "##formulae for calculating distance to the non nearest star 4.0175*(pow(10, 16))\n",
    "\n",
    "def n_folds_to_reach_height(height, thickness):\n",
    "    # calculate no of folds given height and thickness  \n",
    "    n = (math.log(height) - math.log(thickness)) / math.log(2) \n",
    "    \n",
    "    no_of_folds = math.ceil(n) \n",
    "    # function to round up  \n",
    "    print(\"The minimum number of folds required to exceed the height is:\",no_of_folds)\n",
    "    \n",
    "#height to nearest star \n",
    "\n",
    "\n",
    "n_folds_to_reach_height((4.0175*(pow(10, 16))), 0.00008)"
   ]
  },
  {
   "cell_type": "markdown",
   "id": "0711a1a7",
   "metadata": {},
   "source": [
    "### The function takes height(meters) and thickness of paper before fold(meters), and outputs the length of paper required in meters"
   ]
  },
  {
   "cell_type": "code",
   "execution_count": 1,
   "id": "bc8f6079",
   "metadata": {},
   "outputs": [
    {
     "name": "stdout",
     "output_type": "stream",
     "text": [
      "The length is:\n",
      "3.240919444170781e+21 :meters\n"
     ]
    }
   ],
   "source": [
    "import math\n",
    "def paper_length_required(height, thickness):# function to get length takes height and thickness as arguments\n",
    "    print(\"The length is:\")\n",
    "    def n_folds_to_reach_height():# inner function that calculates number of folds\n",
    "        n = (math.log(height) - math.log(thickness)) / math.log(2)\n",
    "        no_of_folds = math.ceil(n)\n",
    "        length = ((math.pi*thickness)/6)*((pow(2,no_of_folds)) + 4 )*((pow(2, no_of_folds)) - 1)# formula to calculate length of paper required\n",
    "        print(length,\":meters\")\n",
    "    return n_folds_to_reach_height()# returns the output of inner function to the outer function\n",
    "# distance to moon = 384400000 meters\n",
    "# paper thickness = 0.00008 meters\n",
    "paper_length_required(384400000, 0.00008 )"
   ]
  },
  {
   "cell_type": "markdown",
   "id": "14bba3c0",
   "metadata": {},
   "source": [
    "# [Problem 3] \n",
    "\n",
    "Required paper length\n"
   ]
  },
  {
   "cell_type": "code",
   "execution_count": 59,
   "id": "cf1c5010",
   "metadata": {},
   "outputs": [
    {
     "name": "stdout",
     "output_type": "stream",
     "text": [
      "The length is:\n",
      "1.4595803601100348e+37 :meters\n"
     ]
    }
   ],
   "source": [
    "import math\n",
    "def paper_length_required(height, thickness):\n",
    "    print(\"The length is:\")\n",
    "    def no_folds_to_reach_height():\n",
    "        n = (math.log(height) - math.log(thickness)) / math.log(2)\n",
    "        no_of_folds = math.ceil(n)\n",
    "        length = ((math.pi*thickness)/6)*((pow(2,no_of_folds)) + 4 )*((pow(2, no_of_folds)) - 1)# formula to calculate length of paper required\n",
    "        print(length,\":meters\")\n",
    "    return no_folds_to_reach_height()# returns the output of inner function to the outer function\n",
    "# distance to proxima centauri = 4.0175*10^16 meters\n",
    "# paper thickness = 0.00008 meters\n",
    "paper_length_required((4.0175*(pow(10,16))), 0.00008 )"
   ]
  },
  {
   "cell_type": "markdown",
   "id": "6e414511",
   "metadata": {},
   "source": [
    "The length of paper required to fold thickness equal to distance of nearest star proxima centauri is (1.46 * 10^37) meters"
   ]
  },
  {
   "cell_type": "code",
   "execution_count": null,
   "id": "b0fdb923",
   "metadata": {},
   "outputs": [],
   "source": []
  },
  {
   "cell_type": "code",
   "execution_count": null,
   "id": "20eaa414",
   "metadata": {},
   "outputs": [],
   "source": []
  }
 ],
 "metadata": {
  "kernelspec": {
   "display_name": "Python 3 (ipykernel)",
   "language": "python",
   "name": "python3"
  },
  "language_info": {
   "codemirror_mode": {
    "name": "ipython",
    "version": 3
   },
   "file_extension": ".py",
   "mimetype": "text/x-python",
   "name": "python",
   "nbconvert_exporter": "python",
   "pygments_lexer": "ipython3",
   "version": "3.8.13"
  }
 },
 "nbformat": 4,
 "nbformat_minor": 5
}
