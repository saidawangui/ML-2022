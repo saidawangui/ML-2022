{
 "cells": [
  {
   "cell_type": "code",
   "execution_count": 1,
   "id": "ec5744a4",
   "metadata": {},
   "outputs": [
    {
     "name": "stdout",
     "output_type": "stream",
     "text": [
      "Thickness: 703687441.77664 meters\n"
     ]
    }
   ],
   "source": [
    "#Code to calculate the thickness when the paper is folded 43 times\n",
    "\n",
    "THICKNESS = 0.00008\n",
    "\n",
    "folded_thickness = THICKNESS * 2 ** 43\n",
    "\n",
    "print(\"Thickness: {} meters\".format(folded_thickness))"
   ]
  },
  {
   "cell_type": "code",
   "execution_count": 20,
   "id": "ecd9788e",
   "metadata": {},
   "outputs": [
    {
     "name": "stdout",
     "output_type": "stream",
     "text": [
      "Thickness:  70368.74 kilometers\n"
     ]
    }
   ],
   "source": [
    "# Convert meters to kilometers and display with two decimal places\n",
    "THICKNESS = 0.00008\n",
    "folded_thickness = THICKNESS * 2 ** 43\n",
    "\n",
    "print(\"Thickness: {: .2f} kilometers\".format(folded_thickness / 10000))"
   ]
  },
  {
   "cell_type": "code",
   "execution_count": 16,
   "id": "3fdea705",
   "metadata": {},
   "outputs": [
    {
     "name": "stdout",
     "output_type": "stream",
     "text": [
      "Thickness:  70368.74 kilometers\n",
      "Thickness:  70368.74 kilometers\n",
      "Thickness:  70368.74 kilometers\n",
      "Thickness:  70368.74 kilometers\n",
      "Thickness:  70368.74 kilometers\n",
      "Thickness:  70368.74 kilometers\n",
      "Thickness:  70368.74 kilometers\n",
      "Thickness:  70368.74 kilometers\n",
      "Thickness:  70368.74 kilometers\n",
      "Thickness:  70368.74 kilometers\n",
      "Thickness:  70368.74 kilometers\n",
      "Thickness:  70368.74 kilometers\n",
      "Thickness:  70368.74 kilometers\n",
      "Thickness:  70368.74 kilometers\n",
      "Thickness:  70368.74 kilometers\n",
      "Thickness:  70368.74 kilometers\n",
      "Thickness:  70368.74 kilometers\n",
      "Thickness:  70368.74 kilometers\n",
      "Thickness:  70368.74 kilometers\n",
      "Thickness:  70368.74 kilometers\n",
      "Thickness:  70368.74 kilometers\n",
      "Thickness:  70368.74 kilometers\n",
      "Thickness:  70368.74 kilometers\n",
      "Thickness:  70368.74 kilometers\n",
      "Thickness:  70368.74 kilometers\n",
      "Thickness:  70368.74 kilometers\n",
      "Thickness:  70368.74 kilometers\n",
      "Thickness:  70368.74 kilometers\n",
      "Thickness:  70368.74 kilometers\n",
      "Thickness:  70368.74 kilometers\n",
      "Thickness:  70368.74 kilometers\n",
      "Thickness:  70368.74 kilometers\n",
      "Thickness:  70368.74 kilometers\n",
      "Thickness:  70368.74 kilometers\n",
      "Thickness:  70368.74 kilometers\n",
      "Thickness:  70368.74 kilometers\n",
      "Thickness:  70368.74 kilometers\n",
      "Thickness:  70368.74 kilometers\n",
      "Thickness:  70368.74 kilometers\n",
      "Thickness:  70368.74 kilometers\n",
      "Thickness:  70368.74 kilometers\n",
      "Thickness:  70368.74 kilometers\n",
      "Thickness:  70368.74 kilometers\n"
     ]
    }
   ],
   "source": [
    "#using for statement\n",
    "THICKNESS = 0.00008\n",
    "num_of_folds = 43\n",
    "for n in range(num_of_folds):\n",
    "    THICKNESS = THICKNESS*2\n",
    "    print(\"Thickness: {: .2f} kilometers\".format(folded_thickness / 10000))"
   ]
  },
  {
   "cell_type": "code",
   "execution_count": 21,
   "id": "383d59bc",
   "metadata": {},
   "outputs": [
    {
     "name": "stdout",
     "output_type": "stream",
     "text": [
      "Thickness:  70368.74 kilometers\n",
      "time : 0.0008249282836914062[s]\n"
     ]
    }
   ],
   "source": [
    "#execution times method 1\n",
    "\n",
    "import time\n",
    "start = time.time()\n",
    "#####\n",
    "THICKNESS = 0.00008\n",
    "folded_thickness = THICKNESS * 2 ** 43\n",
    "print(\"Thickness: {: .2f} kilometers\".format(folded_thickness / 10000))\n",
    "\n",
    "#####\n",
    "elapsed_time = time.time() - start\n",
    "print(\"time : {}[s]\".format(elapsed_time))"
   ]
  },
  {
   "cell_type": "code",
   "execution_count": 37,
   "id": "376206bd",
   "metadata": {},
   "outputs": [
    {
     "name": "stdout",
     "output_type": "stream",
     "text": [
      "Thickness: 70368.74 kilometers\n",
      "Thickness: 70368.74 kilometers\n",
      "Thickness: 70368.74 kilometers\n",
      "Thickness: 70368.74 kilometers\n",
      "Thickness: 70368.74 kilometers\n",
      "Thickness: 70368.74 kilometers\n",
      "Thickness: 70368.74 kilometers\n",
      "Thickness: 70368.74 kilometers\n",
      "Thickness: 70368.74 kilometers\n",
      "Thickness: 70368.74 kilometers\n",
      "Thickness: 70368.74 kilometers\n",
      "Thickness: 70368.74 kilometers\n",
      "Thickness: 70368.74 kilometers\n",
      "Thickness: 70368.74 kilometers\n",
      "Thickness: 70368.74 kilometers\n",
      "Thickness: 70368.74 kilometers\n",
      "Thickness: 70368.74 kilometers\n",
      "Thickness: 70368.74 kilometers\n",
      "Thickness: 70368.74 kilometers\n",
      "Thickness: 70368.74 kilometers\n",
      "Thickness: 70368.74 kilometers\n",
      "Thickness: 70368.74 kilometers\n",
      "Thickness: 70368.74 kilometers\n",
      "Thickness: 70368.74 kilometers\n",
      "Thickness: 70368.74 kilometers\n",
      "Thickness: 70368.74 kilometers\n",
      "Thickness: 70368.74 kilometers\n",
      "Thickness: 70368.74 kilometers\n",
      "Thickness: 70368.74 kilometers\n",
      "Thickness: 70368.74 kilometers\n",
      "Thickness: 70368.74 kilometers\n",
      "Thickness: 70368.74 kilometers\n",
      "Thickness: 70368.74 kilometers\n",
      "Thickness: 70368.74 kilometers\n",
      "Thickness: 70368.74 kilometers\n",
      "Thickness: 70368.74 kilometers\n",
      "Thickness: 70368.74 kilometers\n",
      "Thickness: 70368.74 kilometers\n",
      "Thickness: 70368.74 kilometers\n",
      "Thickness: 70368.74 kilometers\n",
      "Thickness: 70368.74 kilometers\n",
      "Thickness: 70368.74 kilometers\n",
      "Thickness: 70368.74 kilometers\n",
      "time : 0.005046844482421875[s]\n"
     ]
    }
   ],
   "source": [
    "#execution time method 2\n",
    "\n",
    "import time\n",
    "start = time.time()\n",
    "#####\n",
    "THICKNESS = 0.00008\n",
    "num_of_folds = 43\n",
    "for n in range(num_of_folds):\n",
    "    THICKNESS = THICKNESS*2\n",
    "    print(\"Thickness: {:.2f} kilometers\".format(folded_thickness / 10000))\n",
    "#####\n",
    "elapsed_time = time.time() - start\n",
    "print(\"time : {}[s]\".format(elapsed_time))"
   ]
  },
  {
   "cell_type": "code",
   "execution_count": 36,
   "id": "cd67c81d",
   "metadata": {},
   "outputs": [
    {
     "name": "stdout",
     "output_type": "stream",
     "text": [
      "the time difference is 0.00015425682067871094\n"
     ]
    }
   ],
   "source": [
    "#to check time difference between the two methods\n",
    "\n",
    "time_diff = (0.0009791851043701172 - 0.0008249282836914062)\n",
    "print (\"the time difference is \" + str(time_diff))"
   ]
  },
  {
   "cell_type": "code",
   "execution_count": 38,
   "id": "e4106b25",
   "metadata": {},
   "outputs": [
    {
     "name": "stdout",
     "output_type": "stream",
     "text": [
      "Thickness:  703687441.78 meters\n",
      "Thickness_list: [8e-05, 0.00016, 0.00032, 0.00064, 0.00128, 0.00256, 0.00512, 0.01024, 0.02048, 0.04096, 0.08192, 0.16384, 0.32768, 0.65536, 1.31072, 2.62144, 5.24288, 10.48576, 20.97152, 41.94304, 83.88608, 167.77216, 335.54432, 671.08864, 1342.17728, 2684.35456, 5368.70912, 10737.41824, 21474.83648, 42949.67296, 85899.34592, 171798.69184, 343597.38368, 687194.76736, 1374389.53472, 2748779.06944, 5497558.13888, 10995116.27776, 21990232.55552, 43980465.11104, 87960930.22208, 175921860.44416, 351843720.88832, 703687441.77664]\n",
      "Number of values in Thickness_list: 44\n"
     ]
    }
   ],
   "source": [
    "#thickness when folded each time visualized with a line graph.\n",
    "\n",
    "THICKNESS = 0.00008\n",
    "num = THICKNESS\n",
    "thickness_list = [num]\n",
    "for n in range(43):\n",
    "    num = num*2\n",
    "    thickness_list.append(num)\n",
    "print(\"Thickness: {: .2f} meters\".format(num)) \n",
    "print(\"Thickness_list:\",thickness_list)\n",
    "print(\"Number of values in Thickness_list:\",len(thickness_list))\n",
    "    \n",
    "    \n",
    "    "
   ]
  },
  {
   "cell_type": "code",
   "execution_count": 47,
   "id": "067378d3",
   "metadata": {},
   "outputs": [
    {
     "data": {
      "image/png": "[encoded data removed]",
      "text/plain": [
       "<Figure size 640x480 with 1 Axes>"
      ]
     },
     "metadata": {},
     "output_type": "display_data"
    }
   ],
   "source": [
    "#creating customized graph\n",
    "import matplotlib.pyplot as plt \n",
    "%matplotlib inline\n",
    "fig, ax = plt.subplots()\n",
    "number_of_folds = [x for x in range(44)] # create a list of number of folds\n",
    "ax.plot(number_of_folds, thickness_list)\n",
    "plt.title(\"thickness of folded paper\")\n",
    "plt.xlabel(\"number of folds\")\n",
    "plt.ylabel(\"thickness [m]\")\n",
    "plt.plot(thickness_list)\n",
    "plt.show()"
   ]
  },
  {
   "cell_type": "code",
   "execution_count": null,
   "id": "eee9f814",
   "metadata": {},
   "outputs": [],
   "source": [
    "#thickness of folded paper increases with the increase of number of fold, its highest at 40 folds."
   ]
  },
  {
   "cell_type": "code",
   "execution_count": 52,
   "id": "76d75cb0",
   "metadata": {},
   "outputs": [
    {
     "data": {
      "image/png": "[encoded data removed]",
      "text/plain": [
       "<Figure size 640x480 with 1 Axes>"
      ]
     },
     "metadata": {},
     "output_type": "display_data"
    }
   ],
   "source": [
    "#Create at least 3 customized graphs\n",
    "plt.xlabel(\"number of folds\")\n",
    "plt.ylabel(\"thickness [m]\")\n",
    "plt.tick_params(labelsize=15)\n",
    "plt.plot(thickness_list, color = 'blue', linewidth = 15)\n",
    "plt.show()"
   ]
  },
  {
   "cell_type": "code",
   "execution_count": 55,
   "id": "7ed35b43",
   "metadata": {},
   "outputs": [
    {
     "data": {
      "image/png": "[encoded data removed]",
      "text/plain": [
       "<Figure size 640x480 with 1 Axes>"
      ]
     },
     "metadata": {},
     "output_type": "display_data"
    }
   ],
   "source": [
    "plt.title(\"thickness of folded paper\")\n",
    "plt.xlabel(\"number of folds\")\n",
    "plt.ylabel(\"thickness [m]\")\n",
    "plt.tick_params(labelsize=10)\n",
    "plt.plot(thickness_list, color = 'green',linewidth = 10,linestyle = '--')\n",
    "plt.show()\n"
   ]
  },
  {
   "cell_type": "code",
   "execution_count": null,
   "id": "fed7fb8d",
   "metadata": {},
   "outputs": [],
   "source": []
  }
 ],
 "metadata": {
  "kernelspec": {
   "display_name": "Python 3 (ipykernel)",
   "language": "python",
   "name": "python3"
  },
  "language_info": {
   "codemirror_mode": {
    "name": "ipython",
    "version": 3
   },
   "file_extension": ".py",
   "mimetype": "text/x-python",
   "name": "python",
   "nbconvert_exporter": "python",
   "pygments_lexer": "ipython3",
   "version": "3.8.13"
  }
 },
 "nbformat": 4,
 "nbformat_minor": 5
}
